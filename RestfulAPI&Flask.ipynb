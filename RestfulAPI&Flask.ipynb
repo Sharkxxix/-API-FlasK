{
  "nbformat": 4,
  "nbformat_minor": 0,
  "metadata": {
    "colab": {
      "provenance": []
    },
    "kernelspec": {
      "name": "python3",
      "display_name": "Python 3"
    },
    "language_info": {
      "name": "python"
    }
  },
  "cells": [
    {
      "cell_type": "markdown",
      "source": [
        "# Restful API & Flask\n"
      ],
      "metadata": {
        "id": "15NYMpHvfGk5"
      }
    },
    {
      "cell_type": "markdown",
      "source": [
        "1.What is a RESTful API?\n",
        "  - A RESTful API is a set of rules and standards for creating and interacting with web services. It uses standard HTTP methods (like GET and POST) to allow different software applications to communicate with each other over the internet."
      ],
      "metadata": {
        "id": "r0kJuRtofYJ-"
      }
    },
    {
      "cell_type": "markdown",
      "source": [
        "2.Explain the concept of API specification.\n",
        "  - An API specification is a detailed document that describes how an API works, including its available endpoints, accepted data formats, and response structures. It acts as a contract and guide for developers who want to use the API."
      ],
      "metadata": {
        "id": "qy3syk9Ofr1Q"
      }
    },
    {
      "cell_type": "markdown",
      "source": [
        "3.What is Flask, and why is it popular for building APIs?\n",
        "  - Flask is a lightweight Python web framework known for its simplicity and flexibility. It is popular for building APIs because it provides the essentials without imposing a strict structure, allowing developers to build custom solutions quickly."
      ],
      "metadata": {
        "id": "qjTDGGHtfzmm"
      }
    },
    {
      "cell_type": "markdown",
      "source": [
        "4.What is routing in Flask?\n",
        "  - Routing in Flask involves mapping URL paths to the Python functions that should handle requests for those URLs. This is done using the @app.route() decorator, which tells Flask which function to run when a specific URL is accessed."
      ],
      "metadata": {
        "id": "qKw_c1qJgON7"
      }
    },
    {
      "cell_type": "markdown",
      "source": [
        "5.How do you create a simple Flask application?\n",
        "  - To create a simple Flask app, you import the Flask class, create an instance of it, and define a route with a function that returns a string or HTML. Finally, you add code to run the application's built-in server."
      ],
      "metadata": {
        "id": "H4mPzC2_gXxh"
      }
    },
    {
      "cell_type": "markdown",
      "source": [
        "6.What are HTTP methods used in RESTful APIs?\n",
        "  - RESTful APIs use standard HTTP methods to perform actions on resources. The most common methods are GET (to retrieve data), POST (to create data), PUT (to update data), and DELETE (to remove data)."
      ],
      "metadata": {
        "id": "BZUTeIfsgl1z"
      }
    },
    {
      "cell_type": "markdown",
      "source": [
        "7.What is the purpose of the @app.route() decorator in Flask?\n",
        "  - The @app.route() decorator is used in Flask to associate a URL with a view function. When a user navigates to the specified URL, Flask executes the decorated function to generate and return a response."
      ],
      "metadata": {
        "id": "ImveDurWhC-6"
      }
    },
    {
      "cell_type": "markdown",
      "source": [
        "8.What is the difference between GET and POST HTTP methods?\n",
        "  - A GET request is used to retrieve data from a server, and its parameters are visible in the URL. A POST request is used to send data to a server to create or update a resource, and the data is securely contained in the request body."
      ],
      "metadata": {
        "id": "fhtKnlsfhHRX"
      }
    },
    {
      "cell_type": "markdown",
      "source": [
        "9.How do you handle errors in Flask APIs?\n",
        "  - Errors in Flask are typically handled using the @app.errorhandler() decorator. This allows you to create custom functions that return a specific response, such as a JSON error message, when a particular HTTP error or exception occurs.\n",
        "\n"
      ],
      "metadata": {
        "id": "nFRkw1X7hNsC"
      }
    },
    {
      "cell_type": "markdown",
      "source": [
        "10.How do you connect Flask to a SQL database?\n",
        "  - You can connect Flask to a SQL database using an extension like Flask-SQLAlchemy. After configuring the database connection string in your app, the extension provides tools to define models and execute queries."
      ],
      "metadata": {
        "id": "QSSmrbh6hUuM"
      }
    },
    {
      "cell_type": "markdown",
      "source": [
        "11.What is the role of Flask-SQLAlchemy?\n",
        "  - Flask-SQLAlchemy is a Flask extension that simplifies the use of SQLAlchemy, an Object-Relational Mapper (ORM). It helps manage database connections and sessions, making it easier to perform database operations within a Flask application."
      ],
      "metadata": {
        "id": "oDllWiwhhi3j"
      }
    },
    {
      "cell_type": "markdown",
      "source": [
        "12.What are Flask blueprints, and how are they useful?\n",
        "  - Flask blueprints are a way to organize a Flask application into smaller, reusable components. They are useful for structuring larger applications by grouping related routes, templates, and static files into separate modules."
      ],
      "metadata": {
        "id": "eYlwaboZhrmn"
      }
    },
    {
      "cell_type": "markdown",
      "source": [
        "13.What is the purpose of Flask's request object?\n",
        "  - The request object in Flask contains all the information from an incoming client request. It allows you to access data from forms (request.form), URL parameters (request.args), and JSON payloads (request.get_json())."
      ],
      "metadata": {
        "id": "mkb-iXGKh9x5"
      }
    },
    {
      "cell_type": "markdown",
      "source": [
        "14.How do you create a RESTful API endpoint using Flask?\n",
        "  - To create a RESTful API endpoint, you define a route with @app.route() and write a function that returns data in a machine-readable format. Flask's jsonify function is commonly used to convert Python dictionaries into a proper JSON response."
      ],
      "metadata": {
        "id": "GJV4gXhjiFQc"
      }
    },
    {
      "cell_type": "markdown",
      "source": [
        "15.What is the purpose of Flask's jsonify() function?\n",
        "  - Flask's jsonify() function serializes Python dictionaries into JSON format and creates a Response object with the correct Content-Type header (application/json). This is the standard way to send JSON data from a Flask API."
      ],
      "metadata": {
        "id": "Dn5HLobXiUaG"
      }
    },
    {
      "cell_type": "markdown",
      "source": [
        "16.Explain Flask's url_for() function.\n",
        "  - The url_for() function generates a URL for a specific function, which is more flexible than hard-coding URLs. It allows you to change the URL structure of your application in one place without having to update it everywhere it's used."
      ],
      "metadata": {
        "id": "hSQCghqBicM3"
      }
    },
    {
      "cell_type": "markdown",
      "source": [
        "17.How does Flask handle static files (CSS, JavaScript, etc.)?\n",
        "  - Flask automatically serves static files from a folder named static located in your application's root directory. These files can then be accessed in your templates using a URL like /static/filename.css."
      ],
      "metadata": {
        "id": "g_Cm5XGGikz6"
      }
    },
    {
      "cell_type": "markdown",
      "source": [
        "18.What is an API specification, and how does it help in building a Flask API?\n",
        "  - An API specification (like OpenAPI) provides a clear, machine-readable definition of your API's endpoints and data structures. It helps in building a Flask API by enabling automatic documentation generation, client code creation, and request validation."
      ],
      "metadata": {
        "id": "Era_6D8qi09v"
      }
    },
    {
      "cell_type": "markdown",
      "source": [
        "19.What are HTTP status codes, and why are they important in a Flask API?\n",
        "  - HTTP status codes are standard three-digit numbers (e.g., 200 for success, 404 for not found) that indicate the result of a client's request. They are important for APIs because they provide a clear and consistent way for the client to understand what happened with their request."
      ],
      "metadata": {
        "id": "rcu1Kvx0i8qL"
      }
    },
    {
      "cell_type": "markdown",
      "source": [
        "20.How do you handle POST requests in Flask?\n",
        "  - To handle a POST request in Flask, you must specify methods=['POST'] in the @app.route() decorator. Inside the corresponding function, you can then access the incoming data from the request object using request.form or request.get_json()."
      ],
      "metadata": {
        "id": "1b7wKVKjjJS3"
      }
    },
    {
      "cell_type": "markdown",
      "source": [
        "21.How would you secure a Flask API?\n",
        "  - Securing a Flask API involves several practices, such as using HTTPS to encrypt communication, implementing authentication with tokens (e.g., JWT), and validating all incoming data to prevent security vulnerabilities like SQL injection."
      ],
      "metadata": {
        "id": "yaHA-69yjV_5"
      }
    },
    {
      "cell_type": "markdown",
      "source": [
        "22.What is the significance of the Flask-RESTful extension?\n",
        "  - The Flask-RESTful extension simplifies the process of building REST APIs in Flask by providing tools for creating resources and handling request parsing. It helps enforce best practices and reduces the amount of repetitive code you need to write."
      ],
      "metadata": {
        "id": "LM84N0zojhWh"
      }
    },
    {
      "cell_type": "markdown",
      "source": [
        "23.What is the role of Flask's session object?\n",
        "  - Flask's session object allows you to store user-specific information across multiple requests, effectively maintaining a user's \"session.\" It works by storing data in a cryptographically-signed cookie sent to the user's browser."
      ],
      "metadata": {
        "id": "UwD7rcDejpTd"
      }
    },
    {
      "cell_type": "markdown",
      "source": [
        "# practical questions\n"
      ],
      "metadata": {
        "id": "zrzcHaOXkKvu"
      }
    },
    {
      "cell_type": "markdown",
      "source": [
        "1.How do you create a basic Flask application?"
      ],
      "metadata": {
        "id": "Dqr8VAnHkQV8"
      }
    },
    {
      "cell_type": "code",
      "source": [
        "from flask import Flask\n",
        "app = Flask(__name__)\n",
        "\n",
        "@app.route('/')\n",
        "def hello():\n",
        "    return 'Hello, World!'\n",
        "\n",
        "if __name__ == '__main__':\n",
        "    app.run()\n"
      ],
      "metadata": {
        "colab": {
          "base_uri": "https://localhost:8080/",
          "height": 0
        },
        "id": "Nn1P9lhZlQ2V",
        "outputId": "01ea4453-bfe8-4891-f930-31d77d628034"
      },
      "execution_count": 3,
      "outputs": [
        {
          "output_type": "stream",
          "name": "stdout",
          "text": [
            " * Serving Flask app '__main__'\n",
            " * Debug mode: off\n"
          ]
        },
        {
          "output_type": "stream",
          "name": "stderr",
          "text": [
            "INFO:werkzeug:\u001b[31m\u001b[1mWARNING: This is a development server. Do not use it in a production deployment. Use a production WSGI server instead.\u001b[0m\n",
            " * Running on http://127.0.0.1:5000\n",
            "INFO:werkzeug:\u001b[33mPress CTRL+C to quit\u001b[0m\n"
          ]
        }
      ]
    },
    {
      "cell_type": "markdown",
      "source": [
        "2.How do you serve static files like images or CSS in Flask?"
      ],
      "metadata": {
        "id": "jpStbQdclW73"
      }
    },
    {
      "cell_type": "code",
      "source": [
        "from flask import Flask, render_template\n",
        "\n",
        "app = Flask(__name__)\n",
        "\n",
        "@app.route('/')\n",
        "def index():\n",
        "    return render_template('index.html')\n",
        "\n",
        "# To serve static files, Flask automatically looks for a folder named 'static'\n",
        "# in the same directory as your application.\n",
        "# For example, if you have a file named 'style.css' inside the 'static' folder,\n",
        "# you can link to it in your HTML template like this:\n",
        "# <link rel=\"stylesheet\" href=\"{{ url_for('static', filename='style.css') }}\">\n",
        "\n",
        "if __name__ == '__main__':\n",
        "    app.run(debug=True)"
      ],
      "metadata": {
        "colab": {
          "base_uri": "https://localhost:8080/",
          "height": 0
        },
        "id": "hPTDvshVlgXQ",
        "outputId": "d6900fc4-8f60-47b2-fd8b-5d21d0ca127d"
      },
      "execution_count": 4,
      "outputs": [
        {
          "output_type": "stream",
          "name": "stdout",
          "text": [
            " * Serving Flask app '__main__'\n",
            " * Debug mode: on\n"
          ]
        },
        {
          "output_type": "stream",
          "name": "stderr",
          "text": [
            "INFO:werkzeug:\u001b[31m\u001b[1mWARNING: This is a development server. Do not use it in a production deployment. Use a production WSGI server instead.\u001b[0m\n",
            " * Running on http://127.0.0.1:5000\n",
            "INFO:werkzeug:\u001b[33mPress CTRL+C to quit\u001b[0m\n",
            "INFO:werkzeug: * Restarting with watchdog (inotify)\n"
          ]
        }
      ]
    },
    {
      "cell_type": "markdown",
      "source": [],
      "metadata": {
        "id": "j1qZtFh1moN6"
      }
    },
    {
      "cell_type": "markdown",
      "source": [
        "3.How do you define different routes with different HTTP methods in Flask?"
      ],
      "metadata": {
        "id": "vqvYn-sen3Id"
      }
    },
    {
      "cell_type": "code",
      "source": [
        "from flask import Flask, request\n",
        "\n",
        "app = Flask(__name__)\n",
        "\n",
        "@app.route('/data', methods=['GET'])\n",
        "def get_data():\n",
        "    return 'This is a GET request to retrieve data.'\n",
        "\n",
        "@app.route('/data', methods=['POST'])\n",
        "def post_data():\n",
        "    # You can access data sent in a POST request using request.form or request.get_json()\n",
        "    return 'This is a POST request to create or update data.'\n",
        "\n",
        "@app.route('/data', methods=['PUT'])\n",
        "def put_data():\n",
        "    return 'This is a PUT request to update data.'\n",
        "\n",
        "@app.route('/data', methods=['DELETE'])\n",
        "def delete_data():\n",
        "    return 'This is a DELETE request to delete data.'\n",
        "\n",
        "if __name__ == '__main__':\n",
        "    app.run(debug=True)"
      ],
      "metadata": {
        "id": "MnujLQ6-u5v5"
      },
      "execution_count": null,
      "outputs": []
    },
    {
      "cell_type": "markdown",
      "source": [
        "4.How do you render HTML templates in Flask?"
      ],
      "metadata": {
        "id": "QDevM3MtvNgU"
      }
    },
    {
      "cell_type": "code",
      "source": [
        "from flask import Flask, render_template\n",
        "\n",
        "app = Flask(__name__)\n",
        "\n",
        "@app.route('/')\n",
        "def index():\n",
        "    return render_template('index.html', title='My Flask App', content='Hello from Flask!')\n",
        "\n",
        "if __name__ == '__main__':\n",
        "    app.run(debug=True)"
      ],
      "metadata": {
        "id": "6D-DBBDFwA1W"
      },
      "execution_count": null,
      "outputs": []
    },
    {
      "cell_type": "markdown",
      "source": [
        "5.How can you generate URLs for routes in Flask using url_for?"
      ],
      "metadata": {
        "id": "S13seh0mwI8B"
      }
    },
    {
      "cell_type": "code",
      "source": [
        "from flask import Flask, url_for\n",
        "\n",
        "app = Flask(__name__)\n",
        "\n",
        "@app.route('/')\n",
        "def index():\n",
        "    return 'Index Page'\n",
        "\n",
        "@app.route('/hello/<username>')\n",
        "def hello_user(username):\n",
        "    return f'Hello {username}'\n",
        "\n",
        "with app.test_request_context():\n",
        "    print(url_for('index'))\n",
        "    print(url_for('hello_user', username='John Doe'))\n",
        "    print(url_for('hello_user', username='John Doe', _external=True))\n",
        "\n",
        "if __name__ == '__main__':\n",
        "    app.run(debug=True)"
      ],
      "metadata": {
        "id": "M5CnE8VWwOHI"
      },
      "execution_count": null,
      "outputs": []
    },
    {
      "cell_type": "markdown",
      "source": [
        "6.How do you handle forms in Flask?"
      ],
      "metadata": {
        "id": "3ETDa7gEwTro"
      }
    },
    {
      "cell_type": "code",
      "source": [
        "from flask import Flask, render_template, request\n",
        "\n",
        "app = Flask(__name__)\n",
        "\n",
        "@app.route('/form', methods=['GET', 'POST'])\n",
        "def handle_form():\n",
        "    if request.method == 'POST':\n",
        "        name = request.form.get('name')\n",
        "        return f'Hello, {name}!'\n",
        "    return '''\n",
        "        <form method=\"post\">\n",
        "            <label for=\"name\">Enter your name:</label>\n",
        "            <input type=\"text\" id=\"name\" name=\"name\">\n",
        "            <input type=\"submit\" value=\"Submit\">\n",
        "        </form>\n",
        "    '''\n",
        "\n",
        "if __name__ == '__main__':\n",
        "    app.run(debug=True)"
      ],
      "metadata": {
        "id": "_d3pBBq6waeD"
      },
      "execution_count": null,
      "outputs": []
    },
    {
      "cell_type": "markdown",
      "source": [
        "7.How can you validate form data in Flask?"
      ],
      "metadata": {
        "id": "UAvPNDWswl4y"
      }
    },
    {
      "cell_type": "code",
      "source": [
        "from flask import Flask, render_template, request, flash\n",
        "\n",
        "app = Flask(__name__)\n",
        "app.secret_key = 'your_secret_key' # Required for flash messages\n",
        "\n",
        "@app.route('/validate_form', methods=['GET', 'POST'])\n",
        "def validate_form():\n",
        "    if request.method == 'POST':\n",
        "        name = request.form.get('name')\n",
        "        if not name:\n",
        "            flash('Name is required!', 'error')\n",
        "        else:\n",
        "            flash(f'Hello, {name}!', 'success')\n",
        "        return render_template('form_validation.html') # You would create this template\n",
        "    return render_template('form_validation.html') # You would create this template\n",
        "\n",
        "if __name__ == '__main__':\n",
        "    app.run(debug=True)"
      ],
      "metadata": {
        "id": "_-8bFdDowqZt"
      },
      "execution_count": null,
      "outputs": []
    },
    {
      "cell_type": "markdown",
      "source": [
        "8.How do you manage sessions in Flask?"
      ],
      "metadata": {
        "id": "uNc-Qe93wwKB"
      }
    },
    {
      "cell_type": "code",
      "source": [
        "from flask import Flask, session, redirect, url_for, request\n",
        "\n",
        "app = Flask(__name__)\n",
        "app.secret_key = 'your_secret_key' # Change this to a real random secret key!\n",
        "\n",
        "@app.route('/')\n",
        "def index():\n",
        "    if 'username' in session:\n",
        "        return f'Logged in as {session[\"username\"]} <br> <a href=\"/logout\">Logout</a>'\n",
        "    return 'You are not logged in <br> <a href=\"/login\">Login</a>'\n",
        "\n",
        "@app.route('/login', methods=['GET', 'POST'])\n",
        "def login():\n",
        "    if request.method == 'POST':\n",
        "        session['username'] = request.form['username']\n",
        "        return redirect(url_for('index'))\n",
        "    return '''\n",
        "        <form method=\"post\">\n",
        "            <p><input type=text name=username>\n",
        "            <p><input type=submit value=Login>\n",
        "        </form>\n",
        "    '''\n",
        "\n",
        "@app.route('/logout')\n",
        "def logout():\n",
        "    session.pop('username', None)\n",
        "    return redirect(url_for('index'))\n",
        "\n",
        "if __name__ == '__main__':\n",
        "    app.run(debug=True)"
      ],
      "metadata": {
        "id": "i_I6yCZdw1Ac"
      },
      "execution_count": null,
      "outputs": []
    },
    {
      "cell_type": "markdown",
      "source": [
        "9.How do you redirect to a different route in Flask?"
      ],
      "metadata": {
        "id": "thtkDZcZxCub"
      }
    },
    {
      "cell_type": "code",
      "source": [
        "from flask import Flask, redirect, url_for\n",
        "\n",
        "app = Flask(__name__)\n",
        "\n",
        "@app.route('/')\n",
        "def index():\n",
        "    return 'This is the index page. Go to the home page!'\n",
        "\n",
        "@app.route('/home')\n",
        "def home():\n",
        "    return 'Welcome to the home page!'\n",
        "\n",
        "@app.route('/go-home')\n",
        "def go_home():\n",
        "    # Redirects to the 'home' route\n",
        "    return redirect(url_for('home'))\n",
        "\n",
        "if __name__ == '__main__':\n",
        "    app.run(debug=True)"
      ],
      "metadata": {
        "id": "d8v6iTpZxK7T"
      },
      "execution_count": null,
      "outputs": []
    },
    {
      "cell_type": "markdown",
      "source": [
        "10.How do you handle errors in Flask (e.g., 404)?"
      ],
      "metadata": {
        "id": "78Xe6J73xSVy"
      }
    },
    {
      "cell_type": "code",
      "source": [
        "from flask import Flask, render_template\n",
        "\n",
        "app = Flask(__name__)\n",
        "\n",
        "@app.errorhandler(404)\n",
        "def page_not_found(error):\n",
        "    # You can return a custom HTML template or a JSON response\n",
        "    return render_template('404.html'), 404 # You would create a 404.html template\n",
        "\n",
        "@app.route('/')\n",
        "def index():\n",
        "    return 'This is the index page.'\n",
        "\n",
        "@app.route('/nonexistent')\n",
        "def nonexistent():\n",
        "    # This route doesn't exist, so accessing it will trigger the 404 handler\n",
        "    return 'You should not see this.'\n",
        "\n",
        "if __name__ == '__main__':\n",
        "    app.run(debug=True)"
      ],
      "metadata": {
        "id": "yIMtoWfgxXOz"
      },
      "execution_count": null,
      "outputs": []
    },
    {
      "cell_type": "markdown",
      "source": [
        "11. How do you structure a Flask app using Blueprints?"
      ],
      "metadata": {
        "id": "XwLaesCQxb8q"
      }
    },
    {
      "cell_type": "code",
      "source": [
        "from flask import Flask, Blueprint\n",
        "\n",
        "# Create a Blueprint instance\n",
        "my_blueprint = Blueprint('my_blueprint', __name__)\n",
        "\n",
        "# Define a route within the blueprint\n",
        "@my_blueprint.route('/blueprint_route')\n",
        "def blueprint_route():\n",
        "    return 'This is a route from the blueprint!'\n",
        "\n",
        "# Create the Flask application instance\n",
        "app = Flask(__name__)\n",
        "\n",
        "# Register the blueprint with the application\n",
        "app.register_blueprint(my_blueprint)\n",
        "\n",
        "@app.route('/')\n",
        "def index():\n",
        "    return 'This is the main application index page.'\n",
        "\n",
        "if __name__ == '__main__':\n",
        "    app.run(debug=True)"
      ],
      "metadata": {
        "id": "JWVPY_SZxkyy"
      },
      "execution_count": null,
      "outputs": []
    },
    {
      "cell_type": "markdown",
      "source": [
        "12.How do you define a custom Jinja filter in Flask?"
      ],
      "metadata": {
        "id": "W21OsyWfxrJr"
      }
    },
    {
      "cell_type": "code",
      "source": [
        "from flask import Flask, render_template_string\n",
        "\n",
        "app = Flask(__name__)\n",
        "\n",
        "# Define a custom Jinja filter\n",
        "@app.template_filter('reverse_string')\n",
        "def reverse_string_filter(s):\n",
        "    return s[::-1]\n",
        "\n",
        "@app.route('/')\n",
        "def index():\n",
        "    # Example of using the custom filter in a template string\n",
        "    template = \"{{ my_string | reverse_string }}\"\n",
        "    return render_template_string(template, my_string=\"Hello, Flask!\")\n",
        "\n",
        "if __name__ == '__main__':\n",
        "    app.run(debug=True)"
      ],
      "metadata": {
        "id": "_aqPoyPGx4E5"
      },
      "execution_count": null,
      "outputs": []
    },
    {
      "cell_type": "markdown",
      "source": [
        "13.How can you redirect with query parameters in Flask?"
      ],
      "metadata": {
        "id": "TwblnjemyCDJ"
      }
    },
    {
      "cell_type": "code",
      "source": [
        "from flask import Flask, redirect, url_for\n",
        "\n",
        "app = Flask(__name__)\n",
        "\n",
        "@app.route('/')\n",
        "def index():\n",
        "    return 'This is the index page. Go to the greeting page!'\n",
        "\n",
        "@app.route('/greet')\n",
        "def greet():\n",
        "    name = request.args.get('name', 'Guest') # Get the 'name' query parameter\n",
        "    return f'Hello, {name}!'\n",
        "\n",
        "@app.route('/go-greet')\n",
        "def go_greet():\n",
        "    # Redirects to the 'greet' route with a query parameter\n",
        "    return redirect(url_for('greet', name='Alice'))\n",
        "\n",
        "if __name__ == '__main__':\n",
        "    app.run(debug=True)"
      ],
      "metadata": {
        "id": "EuxHRltIyG6o"
      },
      "execution_count": null,
      "outputs": []
    },
    {
      "cell_type": "markdown",
      "source": [
        "14.How do you return JSON responses in Flask?"
      ],
      "metadata": {
        "id": "__FwYBpnyOcm"
      }
    },
    {
      "cell_type": "code",
      "source": [
        "from flask import Flask, jsonify\n",
        "\n",
        "app = Flask(__name__)\n",
        "\n",
        "@app.route('/json_data')\n",
        "def get_json_data():\n",
        "    data = {\n",
        "        'name': 'Flask API',\n",
        "        'version': '1.0',\n",
        "        'data': [1, 2, 3, 4, 5]\n",
        "    }\n",
        "    return jsonify(data)\n",
        "\n",
        "if __name__ == '__main__':\n",
        "    app.run(debug=True)"
      ],
      "metadata": {
        "id": "4_4hHPomyX1C"
      },
      "execution_count": null,
      "outputs": []
    },
    {
      "cell_type": "markdown",
      "source": [
        "15.How do you capture URL parameters in Flask?"
      ],
      "metadata": {
        "id": "mgb32DhBycmW"
      }
    },
    {
      "cell_type": "code",
      "source": [
        "from flask import Flask\n",
        "\n",
        "app = Flask(__name__)\n",
        "\n",
        "@app.route('/user/<username>')\n",
        "def show_user_profile(username):\n",
        "    # show the user profile for that user\n",
        "    return f'User {username}'\n",
        "\n",
        "@app.route('/post/<int:post_id>')\n",
        "def show_post(post_id):\n",
        "    # show the post with the given id, the id is an integer\n",
        "    return f'Post {post_id}'\n",
        "\n",
        "if __name__ == '__main__':\n",
        "    app.run(debug=True)"
      ],
      "metadata": {
        "id": "lp4vhJF2yhvH"
      },
      "execution_count": null,
      "outputs": []
    }
  ]
}